{
 "cells": [
  {
   "cell_type": "code",
   "execution_count": 1,
   "id": "b349d7d9",
   "metadata": {},
   "outputs": [],
   "source": [
    "# imports \n",
    "\n",
    "import gym\n",
    "import numpy as np \n",
    "import pandas as pd \n",
    "\n",
    "# for capturing the video / graphs\n",
    "import cv2 as cv\n",
    "import matplotlib.pyplot as plt \n",
    "\n",
    "\n",
    "# for training nn:\n",
    "import torch\n",
    "import torch.nn as nn\n",
    "import torchvision\n",
    "import torch.optim as optim\n",
    "\n",
    "# for truncated normal distribution\n",
    "import scipy.stats as stats\n",
    "import torch.distributions as distributions\n",
    "\n",
    "# others\n",
    "import os\n",
    "import time\n"
   ]
  },
  {
   "cell_type": "code",
   "execution_count": 2,
   "id": "03acdca5",
   "metadata": {},
   "outputs": [
    {
     "name": "stdout",
     "output_type": "stream",
     "text": [
      "True\n",
      "NVIDIA GeForce RTX 3050 Laptop GPU\n"
     ]
    }
   ],
   "source": [
    "print(torch.cuda.is_available())\n",
    "print(torch.cuda.get_device_name(0))"
   ]
  },
  {
   "cell_type": "markdown",
   "id": "972ef918",
   "metadata": {},
   "source": [
    "**env - CarRacing-v2**\n",
    "\n",
    "**Policy-Gradients with critic**"
   ]
  },
  {
   "cell_type": "code",
   "execution_count": 4,
   "id": "e74fa4fe",
   "metadata": {},
   "outputs": [
    {
     "name": "stdout",
     "output_type": "stream",
     "text": [
      "(0,)\n"
     ]
    },
    {
     "data": {
      "image/png": "[encoded data removed]",
      "text/plain": [
       "<Figure size 432x288 with 1 Axes>"
      ]
     },
     "metadata": {
      "needs_background": "light"
     },
     "output_type": "display_data"
    }
   ],
   "source": [
    "env = gym.make('BipedalWalker-v3',new_step_api='True',render_mode='rgb_array',hardcore=False)\n",
    "env.reset()\n",
    "# example image\n",
    "plt.imshow(np.array(env.render()).squeeze())\n",
    "print(np.array(env.render()).shape)"
   ]
  },
  {
   "cell_type": "code",
   "execution_count": 41,
   "id": "1b614687",
   "metadata": {},
   "outputs": [
    {
     "data": {
      "text/plain": [
       "<matplotlib.image.AxesImage at 0x22f41e57e80>"
      ]
     },
     "execution_count": 41,
     "metadata": {},
     "output_type": "execute_result"
    },
    {
     "data": {
      "image/png": "[encoded data removed]",
      "text/plain": [
       "<Figure size 432x288 with 1 Axes>"
      ]
     },
     "metadata": {
      "needs_background": "light"
     },
     "output_type": "display_data"
    }
   ],
   "source": [
    "env.reset()\n",
    "for i in range(100):\n",
    "   env.step(np.array([1.0,1.0,-1.0,1.0]))\n",
    "plt.imshow(np.array(env.render()[-1]).squeeze())"
   ]
  },
  {
   "cell_type": "code",
   "execution_count": null,
   "id": "d0f65bc8",
   "metadata": {},
   "outputs": [],
   "source": []
  },
  {
   "cell_type": "code",
   "execution_count": 23,
   "id": "50e72555",
   "metadata": {},
   "outputs": [],
   "source": [
    "# our model : # arch - 2\n",
    "# arch - 1 : 24 - 256 (actor_fnn) , 256-32,32-4 (var,mu) , val : 24 128 16 1\n",
    "# arch - 2 : 24 - 48 - 16 - 4 / for Mu and var ; 24 - 48 - 16 - 1 / for critic\n",
    "\n",
    "class BipedalWalker(nn.Module):\n",
    "    def __init__(self,prob_dist_params_dim = 4):\n",
    "\n",
    "        super(BipedalWalker,self).__init__()\n",
    "        self.output = prob_dist_params_dim\n",
    "\n",
    "\n",
    "        self.Actor_FNN = nn.Sequential(\n",
    "            #nn.Linear(24,256),\n",
    "            #nn.LeakyReLU(),\n",
    "            #nn.Linear(256,32),\n",
    "            #nn.LeakyReLU(),\n",
    "            #nn.Linear(32,self.output),\n",
    "        )\n",
    "\n",
    "        self.Var = nn.Sequential(\n",
    "            nn.Linear(24,512),\n",
    "            nn.LeakyReLU(),\n",
    "            nn.Linear(512,128),\n",
    "            nn.ReLU(),\n",
    "            nn.Linear(128,self.output),\n",
    "            nn.Sigmoid(),\n",
    "        )\n",
    "\n",
    "        self.Mu = nn.Sequential(\n",
    "            nn.Linear(24,512),\n",
    "            nn.LeakyReLU(),\n",
    "            nn.Linear(512,128),\n",
    "            nn.ReLU(),\n",
    "            nn.Linear(128,self.output),\n",
    "            nn.Tanh(),\n",
    "        )\n",
    "\n",
    "        self.Critic_FNN = nn.Sequential(\n",
    "            nn.Linear(24,512),\n",
    "            nn.LeakyReLU(),\n",
    "            nn.Linear(512,256),\n",
    "            nn.LeakyReLU(),\n",
    "            nn.Linear(256,32),\n",
    "            nn.ReLU(),\n",
    "            nn.Linear(32,1),\n",
    "        )\n",
    "\n",
    "    def forward(self,x):\n",
    "        \n",
    "        # To calculate the value fn\n",
    "        value = self.Critic_FNN(x)\n",
    "\n",
    "        # To calculate the Mu and Variance\n",
    "        # prob_params = self.Actor_FNN(x)\n",
    "\n",
    "        # Variance of 3 actions\n",
    "        Variance = self.Var(x)\n",
    "\n",
    "        # Mu of 3 actions \n",
    "        Mu = self.Mu(x)\n",
    "\n",
    "        return value , Mu , Variance"
   ]
  },
  {
   "cell_type": "code",
   "execution_count": 6,
   "id": "c2543a1a",
   "metadata": {},
   "outputs": [
    {
     "name": "stdout",
     "output_type": "stream",
     "text": [
      "BipedalWalker(\n",
      "  (Actor_FNN): Sequential()\n",
      "  (Var): Sequential(\n",
      "    (0): Linear(in_features=24, out_features=512, bias=True)\n",
      "    (1): LeakyReLU(negative_slope=0.01)\n",
      "    (2): Linear(in_features=512, out_features=128, bias=True)\n",
      "    (3): ReLU()\n",
      "    (4): Linear(in_features=128, out_features=4, bias=True)\n",
      "    (5): Sigmoid()\n",
      "  )\n",
      "  (Mu): Sequential(\n",
      "    (0): Linear(in_features=24, out_features=512, bias=True)\n",
      "    (1): LeakyReLU(negative_slope=0.01)\n",
      "    (2): Linear(in_features=512, out_features=128, bias=True)\n",
      "    (3): ReLU()\n",
      "    (4): Linear(in_features=128, out_features=4, bias=True)\n",
      "    (5): Tanh()\n",
      "  )\n",
      "  (Critic_FNN): Sequential(\n",
      "    (0): Linear(in_features=24, out_features=512, bias=True)\n",
      "    (1): LeakyReLU(negative_slope=0.01)\n",
      "    (2): Linear(in_features=512, out_features=256, bias=True)\n",
      "    (3): LeakyReLU(negative_slope=0.01)\n",
      "    (4): Linear(in_features=256, out_features=32, bias=True)\n",
      "    (5): ReLU()\n",
      "    (6): Linear(in_features=32, out_features=1, bias=True)\n",
      "  )\n",
      ")\n",
      " total params in the model : 310345\n"
     ]
    }
   ],
   "source": [
    "# About Model\n",
    "def about_model(model):\n",
    "    print(model)\n",
    "    print(f' total params in the model : {sum(p.numel() for p in model.parameters())}' )\n",
    "    \n",
    "about_model(BipedalWalker())"
   ]
  },
  {
   "cell_type": "code",
   "execution_count": 93,
   "id": "3b1b0d78",
   "metadata": {},
   "outputs": [],
   "source": [
    "\n",
    "class Car_racing():\n",
    "    def __init__(self,name,env,lr_critic=0.001,lr_actor=0.0001,gamma=0.99,model=BipedalWalker):\n",
    "\n",
    "        self.name = name\n",
    "        self.lr_cr = lr_critic\n",
    "        self.lr_actor = lr_actor\n",
    "        self.gamma = gamma\n",
    "        self.env = env\n",
    "        self.device = torch.device('cuda' if torch.cuda.is_available() else 'cpu')\n",
    "\n",
    "        # our model will give the normal dist params for each action mu(mean) , sigma(sd)\n",
    "        self.model = BipedalWalker().to(self.device)\n",
    "        self.optimizer_critic = torch.optim.Adam(self.model.Critic_FNN.parameters(),lr=self.lr_cr )\n",
    "        prob_params = nn.ModuleList([self.model.Var , self.model.Mu] )\n",
    "        self.optimizer_actor = torch.optim.Adam( prob_params.parameters(), lr = self.lr_actor)\n",
    "\n",
    "        ''' raise Exception(f\"test-0 , checking model \\n {self.model} \") - Passed '''\n",
    "    \n",
    "    def save_load_model(self,name,root_path,key='save'):\n",
    "        path = os.path.join(root_path,f'{name}.pt')\n",
    "\n",
    "        if os.path.exists(root_path):\n",
    "\n",
    "            if key=='load':\n",
    "                self.model.load_state_dict(torch.load(path,map_location=self.device))\n",
    "                print('Model Successfully loaded')\n",
    "            else:\n",
    "                torch.save(self.model.state_dict(), path)\n",
    "                print(f'The model named : {name} successfully saved')\n",
    "\n",
    "        else:\n",
    "            print(f'No such root_path {root_path} exists to load the model')\n",
    "\n",
    "\n",
    "    def compute_returns(self,rewards,last_rew,gamma=0.99): # to compute the cumulative reward for the each state\n",
    "        R = []\n",
    "        cumulative_reward = last_rew\n",
    "        rewards = torch.Tensor(rewards).to(self.device)\n",
    "\n",
    "        for i in rewards:\n",
    "            cumulative_reward = i + gamma*cumulative_reward\n",
    "            R.insert(0,cumulative_reward)\n",
    "        ''' raise Exception(f' Test -2 : \\n test for checking the shape of the reward \\n The reward length is : {len(R)} ') - passed '''\n",
    "        return torch.cat(R).detach()\n",
    "    \n",
    "\n",
    "    def get_random_variates(self,Mu,Variance): # pass 2 np_array of size '3'\n",
    "\n",
    "        # to get truncated normal dist in the range(-1,1) \n",
    "        # please visit the link https://docs.scipy.org/doc/scipy/reference/generated/scipy.stats.truncnorm.html to get understanding of the formulae used \n",
    "    \n",
    "        #np_array[1] , np_array[3] , np_array[5] , np_array[4] , np_array[2] = 1/(1+np.exp(-np_array[1])) + 1e-5 , 1/(1+np.exp(-np_array[3])) + 1e-5 , 1/(1+np.exp(-np_array[5])) + 1e-5 , 1/(1+np.exp(-np_array[4])) + 1e-5 , 1/(1+np.exp(-np_array[2])) + 1e-5\n",
    "\n",
    "        action1_range1 , action1_range2 = (-1 - Mu[0] ) / Variance[0] ,  ( 1 - Mu[0] ) / Variance[0] \n",
    "        action2_range1 , action2_range2 = (-1 - Mu[1] ) / Variance[1] ,  ( 1 - Mu[1] ) / Variance[1]\n",
    "        action3_range1 , action3_range2 = (-1 - Mu[2] ) / Variance[2] ,  ( 1 - Mu[2] ) / Variance[2]\n",
    "        action4_range1 , action4_range2 = (-1 - Mu[3] ) / Variance[3] ,  ( 1 - Mu[3] ) / Variance[3]\n",
    "        \n",
    "        # print(np_array,action1_range1 , action1_range2)\n",
    "\n",
    "        action1 = stats.truncnorm.rvs(action1_range1 , action1_range2 , loc = Mu[0] , scale = Variance[0])\n",
    "        action2 = stats.truncnorm.rvs(action2_range1 , action2_range2 , loc = Mu[1] , scale = Variance[1])\n",
    "        action3 = stats.truncnorm.rvs(action3_range1 , action3_range2 , loc = Mu[2] , scale = Variance[2])\n",
    "        action4 = stats.truncnorm.rvs(action4_range1 , action4_range2 , loc = Mu[3] , scale = Variance[3])\n",
    "\n",
    "        actions = np.array([action1 , action2 , action3 , action4 ])\n",
    "\n",
    "        ''' raise Exception(f\" test -1 \\n test for actions probs  \\n The action taken now is {actions} \\n The shape is {actions.shape} \\n \") # - Passed '''\n",
    "        return actions\n",
    "\n",
    "\n",
    "    def get_log_probs(self,actions,Mu,Variance):\n",
    "        probs = []\n",
    "        actions = torch.Tensor(actions).to(self.device)\n",
    "        \n",
    "        for i in range(4):\n",
    "        \n",
    "            D = distributions.Normal(loc = Mu[i] , scale = Variance[i])\n",
    "            temp = torch.unsqueeze( D.log_prob( actions[i] ) , 0 )\n",
    "            probs.append(temp) \n",
    "\n",
    "            # k = -( (actions[i] - Mu[i] )**2 / (2*(Variance[i]**2) ) ) - torch.log( Variance[i] )\n",
    "            # print(k == temp ,k , temp , k-temp )\n",
    "        # print(Mu)\n",
    "        ''' raise Exception(f\" test -3 \\n test for log_prob values \\n { ( probs , torch.unsqueeze(probs[2],0) )} \\n {actions} \") # - Passed '''\n",
    "        # print(probs)\n",
    "        return torch.cat(probs).to(self.device)\n",
    "\n",
    "\n",
    "    def train_A2C_Car(self,path,epochs,freq=10):\n",
    "        reward_avg = []\n",
    "\n",
    "        for e in range(epochs):\n",
    "            state = self.env.reset(options={'randomize':False})\n",
    "            # for storing log_probs , values of each state , rewards from each state / action\n",
    "            rewards = []\n",
    "            log_probs = []\n",
    "            vals = []\n",
    "            n = 400\n",
    "            r1 = 0\n",
    "\n",
    "            for i in range(n):\n",
    "\n",
    "                state = torch.Tensor(state).to(self.device)\n",
    "                value , Mean , Variance   = self.model(state)\n",
    "                \n",
    "                ''' raise Exception(f\"{Mean} \\n \") # - Passed ''' \n",
    "\n",
    "                # changing the params to numpy array\n",
    "                Mu_numpy = Mean.detach().cpu().numpy()\n",
    "                Var_numpy = Variance.detach().cpu().numpy()\n",
    "\n",
    "                actions = self.get_random_variates(Mu_numpy,Var_numpy)\n",
    "                next_state , r , done , _ , _ = env.step(actions)\n",
    "\n",
    "                # changing current state \n",
    "                state = next_state\n",
    "\n",
    "                # append rewards , values , log_probability\n",
    "                rewards.append(r)\n",
    "                vals.append(value)\n",
    "                log_probs.append( self.get_log_probs(actions,Mean,Variance) )\n",
    "\n",
    "                ''' raise Exception(f\" log probs :  {log_probs[0]} \") # - Passed '''\n",
    "\n",
    "                if done == True or i == n-1:\n",
    "                    \n",
    "                    state = torch.Tensor(state).to(self.device)\n",
    "                    value ,_,_ =  self.model(state)\n",
    "                    values =  torch.cat(vals)\n",
    "                    log_probs = torch.cat(log_probs)\n",
    "\n",
    "                    returns = self.compute_returns(rewards=rewards,last_rew=value)\n",
    "                    advantage =  (returns - values)\n",
    "                    \n",
    "                    # print(returns[:10] , values[:10] )\n",
    "                    ''' raise Exception(f\"Test-4 \\n checking for grads \\n grads for advantage : {advantage.requires_grad} \\n grads for log_probs {log_probs.requires_grad} \\n advantage size : {advantage.size()} {advantage[:50]}\") # - Passed'''\n",
    "\n",
    "                    # error terms \n",
    "                    critic_error = torch.mean(advantage.pow(2))\n",
    "                    actor_error = torch.mean(-(log_probs * advantage.detach().unsqueeze(1) ) )\n",
    "\n",
    "\n",
    "                    #print(f' printing grads of the network : {self.model.Actor_FNN[1].bias.grad} ')\n",
    "                    ''' raise Exception(f\" Test - 5 , \\n checking the sizes of the error terms \\n size of critic error : {critic_error.size} \\n size of actor error : {actor_error} \\n {log_probs.grad} {values.grad} \") # - passed '''\n",
    "\n",
    "                    A2C_Loss = actor_error + critic_error\n",
    "                    self.optimizer_critic.zero_grad()\n",
    "                    \n",
    "                    self.optimizer_actor.zero_grad()\n",
    "\n",
    "                    Mean.retain_grad()\n",
    "                    #Variance.retain_grad() \n",
    "\n",
    "                    A2C_Loss.backward()\n",
    "                    self.optimizer_critic.step()\n",
    "\n",
    "                    self.optimizer_actor.zero_grad()\n",
    "\n",
    "                    # storing reward avg \n",
    "                    r_avg = sum(rewards)/len(rewards)\n",
    "                    reward_avg.append(r_avg)\n",
    "\n",
    "                    print(f'epoch {e} is finished and total iters : {i} ; done : {done}')\n",
    "                    ''' raise Exception(f'printing grads of the Actor network[0] : {self.model.Var[0].bias.grad} \\n printing kernels grad size : {self.model.Mu[0].weight.grad.size()}) \\n grads of mean : {Mean.grad} \\n {self.model.Critic_FNN[0].weight.grad[0]} \\n ') # -Passed '''\n",
    "                    break\n",
    "\n",
    "            if (e+1)%freq == 0:\n",
    "                #print(f' printing weight matrix of Actor_FNN : {self.model.Actor_FNN[0].weight[0] } ') # printing  \n",
    "                print(reward_avg[-5:]) # printing last 5 rewards to get an idea whether our Ai is learning or not\n",
    "                self.save_load_model(root_path = path , name=self.name , key='save')\n",
    "\n",
    "        return reward_avg\n",
    "\n",
    "    def train_model(self,save_freq=10,epochs=100,path='./weights/',plot=False):\n",
    "\n",
    "        name = self.name\n",
    "        model_path = os.path.join(path,f'{name}.pt')\n",
    "\n",
    "        if os.path.exists(model_path):\n",
    "            self.save_load_model(root_path = path , key='load' , name=name)\n",
    "\n",
    "        reward_history = self.train_A2C_Car(path=path,freq=save_freq,epochs=epochs)\n",
    "\n",
    "        if plot:\n",
    "            fig = plt.figure(10,10)\n",
    "            plt.plot(reward_history,'b.')\n",
    "            plt.xlabel('iters')\n",
    "            plt.ylabel('rewards')\n",
    "            plt.show()\n",
    "\n",
    "        return reward_history\n"
   ]
  },
  {
   "cell_type": "code",
   "execution_count": 94,
   "id": "0489f8f2",
   "metadata": {},
   "outputs": [],
   "source": [
    "# Installing our model in this cell \n",
    "\n",
    "name = 'Bi_pedal_walker_v3_A3'\n",
    "env = gym.make('BipedalWalker-v3',new_step_api='True',render_mode='rgb_array',hardcore=False)\n",
    "model1 = Car_racing(name=name,env=env)"
   ]
  },
  {
   "cell_type": "code",
   "execution_count": 108,
   "id": "4c4c45f2",
   "metadata": {},
   "outputs": [
    {
     "name": "stdout",
     "output_type": "stream",
     "text": [
      "Model Successfully loaded\n",
      "epoch 0 is finished and total iters : 72 ; done : True\n",
      "epoch 1 is finished and total iters : 399 ; done : False\n",
      "[-1.455225173793673, -0.040468281986051347]\n",
      "The model named : Bi_pedal_walker_v3_A3 successfully saved\n",
      "epoch 2 is finished and total iters : 79 ; done : True\n",
      "epoch 3 is finished and total iters : 399 ; done : False\n",
      "[-1.455225173793673, -0.040468281986051347, -1.3397435807401323, -0.037108563264737375]\n",
      "The model named : Bi_pedal_walker_v3_A3 successfully saved\n",
      "epoch 4 is finished and total iters : 85 ; done : True\n",
      "epoch 5 is finished and total iters : 399 ; done : False\n",
      "[-0.040468281986051347, -1.3397435807401323, -0.037108563264737375, -1.1959258366487835, -0.03848484489145943]\n",
      "The model named : Bi_pedal_walker_v3_A3 successfully saved\n",
      "epoch 6 is finished and total iters : 399 ; done : False\n",
      "epoch 7 is finished and total iters : 399 ; done : False\n",
      "[-0.037108563264737375, -1.1959258366487835, -0.03848484489145943, -0.04405594927623493, -0.04526334510252031]\n",
      "The model named : Bi_pedal_walker_v3_A3 successfully saved\n",
      "epoch 8 is finished and total iters : 399 ; done : False\n",
      "epoch 9 is finished and total iters : 399 ; done : False\n",
      "[-0.03848484489145943, -0.04405594927623493, -0.04526334510252031, -0.04814707488199701, -0.043322622819849894]\n",
      "The model named : Bi_pedal_walker_v3_A3 successfully saved\n",
      "epoch 10 is finished and total iters : 399 ; done : False\n",
      "epoch 11 is finished and total iters : 399 ; done : False\n",
      "[-0.04526334510252031, -0.04814707488199701, -0.043322622819849894, -0.03202829236535916, -0.03623522466876565]\n",
      "The model named : Bi_pedal_walker_v3_A3 successfully saved\n",
      "epoch 12 is finished and total iters : 399 ; done : False\n",
      "epoch 13 is finished and total iters : 91 ; done : True\n",
      "[-0.043322622819849894, -0.03202829236535916, -0.03623522466876565, -0.028877745190125818, -1.0954835276418464]\n",
      "The model named : Bi_pedal_walker_v3_A3 successfully saved\n",
      "epoch 14 is finished and total iters : 399 ; done : False\n",
      "epoch 15 is finished and total iters : 399 ; done : False\n",
      "[-0.03623522466876565, -0.028877745190125818, -1.0954835276418464, -0.03946194603948192, -0.050168184965632884]\n",
      "The model named : Bi_pedal_walker_v3_A3 successfully saved\n",
      "epoch 16 is finished and total iters : 399 ; done : False\n",
      "epoch 17 is finished and total iters : 117 ; done : True\n",
      "[-1.0954835276418464, -0.03946194603948192, -0.050168184965632884, -0.03816137488501175, -0.8633701331287906]\n",
      "The model named : Bi_pedal_walker_v3_A3 successfully saved\n",
      "epoch 18 is finished and total iters : 399 ; done : False\n",
      "epoch 19 is finished and total iters : 399 ; done : False\n",
      "[-0.050168184965632884, -0.03816137488501175, -0.8633701331287906, -0.049363940643900886, -0.032660031421651775]\n",
      "The model named : Bi_pedal_walker_v3_A3 successfully saved\n",
      "epoch 20 is finished and total iters : 399 ; done : False\n",
      "epoch 21 is finished and total iters : 399 ; done : False\n",
      "[-0.8633701331287906, -0.049363940643900886, -0.032660031421651775, -0.04683973237026854, -0.0265099999102502]\n",
      "The model named : Bi_pedal_walker_v3_A3 successfully saved\n",
      "epoch 22 is finished and total iters : 399 ; done : False\n",
      "epoch 23 is finished and total iters : 399 ; done : False\n",
      "[-0.032660031421651775, -0.04683973237026854, -0.0265099999102502, -0.05609805871069162, -0.043530111369168824]\n",
      "The model named : Bi_pedal_walker_v3_A3 successfully saved\n",
      "epoch 24 is finished and total iters : 399 ; done : False\n",
      "epoch 25 is finished and total iters : 399 ; done : False\n",
      "[-0.0265099999102502, -0.05609805871069162, -0.043530111369168824, -0.037787223208804385, -0.024628261232423634]\n",
      "The model named : Bi_pedal_walker_v3_A3 successfully saved\n",
      "epoch 26 is finished and total iters : 399 ; done : False\n",
      "epoch 27 is finished and total iters : 399 ; done : False\n",
      "[-0.043530111369168824, -0.037787223208804385, -0.024628261232423634, -0.040640840029134824, -0.039155760559163644]\n",
      "The model named : Bi_pedal_walker_v3_A3 successfully saved\n",
      "epoch 28 is finished and total iters : 64 ; done : True\n",
      "epoch 29 is finished and total iters : 399 ; done : False\n",
      "[-0.024628261232423634, -0.040640840029134824, -0.039155760559163644, -1.5095690513616906, -0.0664339688179507]\n",
      "The model named : Bi_pedal_walker_v3_A3 successfully saved\n",
      "epoch 30 is finished and total iters : 65 ; done : True\n",
      "epoch 31 is finished and total iters : 399 ; done : False\n",
      "[-0.039155760559163644, -1.5095690513616906, -0.0664339688179507, -1.7120427969295524, -0.03693607204805563]\n",
      "The model named : Bi_pedal_walker_v3_A3 successfully saved\n",
      "epoch 32 is finished and total iters : 399 ; done : False\n",
      "epoch 33 is finished and total iters : 399 ; done : False\n",
      "[-0.0664339688179507, -1.7120427969295524, -0.03693607204805563, -0.03808212809265942, -0.02549203654866795]\n",
      "The model named : Bi_pedal_walker_v3_A3 successfully saved\n",
      "epoch 34 is finished and total iters : 399 ; done : False\n",
      "epoch 35 is finished and total iters : 67 ; done : True\n",
      "[-0.03693607204805563, -0.03808212809265942, -0.02549203654866795, -0.027882568952983036, -1.6775413823037861]\n",
      "The model named : Bi_pedal_walker_v3_A3 successfully saved\n",
      "epoch 36 is finished and total iters : 74 ; done : True\n",
      "epoch 37 is finished and total iters : 399 ; done : False\n",
      "[-0.02549203654866795, -0.027882568952983036, -1.6775413823037861, -1.5798064449098368, -0.030288688041223324]\n",
      "The model named : Bi_pedal_walker_v3_A3 successfully saved\n",
      "epoch 38 is finished and total iters : 399 ; done : False\n",
      "epoch 39 is finished and total iters : 399 ; done : False\n",
      "[-1.6775413823037861, -1.5798064449098368, -0.030288688041223324, -0.0373283044536485, -0.049885712734550156]\n",
      "The model named : Bi_pedal_walker_v3_A3 successfully saved\n",
      "epoch 40 is finished and total iters : 141 ; done : True\n",
      "epoch 41 is finished and total iters : 399 ; done : False\n",
      "[-0.030288688041223324, -0.0373283044536485, -0.049885712734550156, -0.8010959210373717, -0.03639795562885868]\n",
      "The model named : Bi_pedal_walker_v3_A3 successfully saved\n",
      "epoch 42 is finished and total iters : 399 ; done : False\n",
      "epoch 43 is finished and total iters : 399 ; done : False\n",
      "[-0.049885712734550156, -0.8010959210373717, -0.03639795562885868, -0.02245931844895987, -0.04037456621963566]\n",
      "The model named : Bi_pedal_walker_v3_A3 successfully saved\n",
      "epoch 44 is finished and total iters : 80 ; done : True\n",
      "epoch 45 is finished and total iters : 399 ; done : False\n",
      "[-0.03639795562885868, -0.02245931844895987, -0.04037456621963566, -1.2298883161284142, -0.02708679502792521]\n",
      "The model named : Bi_pedal_walker_v3_A3 successfully saved\n",
      "epoch 46 is finished and total iters : 399 ; done : False\n",
      "epoch 47 is finished and total iters : 399 ; done : False\n",
      "[-0.04037456621963566, -1.2298883161284142, -0.02708679502792521, -0.02573392339998226, -0.026962380460525313]\n",
      "The model named : Bi_pedal_walker_v3_A3 successfully saved\n",
      "epoch 48 is finished and total iters : 399 ; done : False\n",
      "epoch 49 is finished and total iters : 399 ; done : False\n",
      "[-0.02708679502792521, -0.02573392339998226, -0.026962380460525313, -0.03227820481645375, -0.01806493453354971]\n",
      "The model named : Bi_pedal_walker_v3_A3 successfully saved\n",
      "epoch 50 is finished and total iters : 68 ; done : True\n",
      "epoch 51 is finished and total iters : 399 ; done : False\n",
      "[-0.026962380460525313, -0.03227820481645375, -0.01806493453354971, -1.4525667986290698, -0.04675710518652071]\n",
      "The model named : Bi_pedal_walker_v3_A3 successfully saved\n",
      "epoch 52 is finished and total iters : 77 ; done : True\n",
      "epoch 53 is finished and total iters : 93 ; done : True\n",
      "[-0.01806493453354971, -1.4525667986290698, -0.04675710518652071, -1.2951977625493423, -1.0577774222590144]\n",
      "The model named : Bi_pedal_walker_v3_A3 successfully saved\n",
      "epoch 54 is finished and total iters : 399 ; done : False\n",
      "epoch 55 is finished and total iters : 399 ; done : False\n",
      "[-0.04675710518652071, -1.2951977625493423, -1.0577774222590144, -0.04617121755517026, -0.03152358778115611]\n",
      "The model named : Bi_pedal_walker_v3_A3 successfully saved\n",
      "epoch 56 is finished and total iters : 66 ; done : True\n",
      "epoch 57 is finished and total iters : 399 ; done : False\n",
      "[-1.0577774222590144, -0.04617121755517026, -0.03152358778115611, -1.7089235212526421, -0.02487175198796418]\n",
      "The model named : Bi_pedal_walker_v3_A3 successfully saved\n",
      "epoch 58 is finished and total iters : 399 ; done : False\n",
      "epoch 59 is finished and total iters : 100 ; done : True\n",
      "[-0.03152358778115611, -1.7089235212526421, -0.02487175198796418, -0.034596424590324894, -1.1511158416582277]\n",
      "The model named : Bi_pedal_walker_v3_A3 successfully saved\n",
      "epoch 60 is finished and total iters : 134 ; done : True\n",
      "epoch 61 is finished and total iters : 54 ; done : True\n",
      "[-0.02487175198796418, -0.034596424590324894, -1.1511158416582277, -0.782345175320736, -1.9935687169524525]\n",
      "The model named : Bi_pedal_walker_v3_A3 successfully saved\n",
      "epoch 62 is finished and total iters : 85 ; done : True\n",
      "epoch 63 is finished and total iters : 399 ; done : False\n",
      "[-1.1511158416582277, -0.782345175320736, -1.9935687169524525, -1.2262531832013983, -0.040614915950867074]\n",
      "The model named : Bi_pedal_walker_v3_A3 successfully saved\n",
      "epoch 64 is finished and total iters : 119 ; done : True\n"
     ]
    },
    {
     "ename": "KeyboardInterrupt",
     "evalue": "",
     "output_type": "error",
     "traceback": [
      "\u001b[1;31m---------------------------------------------------------------------------\u001b[0m",
      "\u001b[1;31mKeyboardInterrupt\u001b[0m                         Traceback (most recent call last)",
      "\u001b[1;32md:\\DISK S\\IITM\\Clubs\\Analytics\\RL\\Tasks and mini-projects\\Bi-pedal walker\\Policy-gradients for continuous action space.ipynb Cell 11\u001b[0m in \u001b[0;36m<cell line: 2>\u001b[1;34m()\u001b[0m\n\u001b[0;32m      <a href='vscode-notebook-cell:/d%3A/DISK%20S/IITM/Clubs/Analytics/RL/Tasks%20and%20mini-projects/Bi-pedal%20walker/Policy-gradients%20for%20continuous%20action%20space.ipynb#X12sZmlsZQ%3D%3D?line=0'>1</a>\u001b[0m \u001b[39m# training our model here\u001b[39;00m\n\u001b[1;32m----> <a href='vscode-notebook-cell:/d%3A/DISK%20S/IITM/Clubs/Analytics/RL/Tasks%20and%20mini-projects/Bi-pedal%20walker/Policy-gradients%20for%20continuous%20action%20space.ipynb#X12sZmlsZQ%3D%3D?line=1'>2</a>\u001b[0m reward_avg \u001b[39m=\u001b[39m model1\u001b[39m.\u001b[39;49mtrain_model(epochs\u001b[39m=\u001b[39;49m\u001b[39m100\u001b[39;49m,save_freq\u001b[39m=\u001b[39;49m\u001b[39m2\u001b[39;49m)\n",
      "\u001b[1;32md:\\DISK S\\IITM\\Clubs\\Analytics\\RL\\Tasks and mini-projects\\Bi-pedal walker\\Policy-gradients for continuous action space.ipynb Cell 11\u001b[0m in \u001b[0;36mCar_racing.train_model\u001b[1;34m(self, save_freq, epochs, path, plot)\u001b[0m\n\u001b[0;32m    <a href='vscode-notebook-cell:/d%3A/DISK%20S/IITM/Clubs/Analytics/RL/Tasks%20and%20mini-projects/Bi-pedal%20walker/Policy-gradients%20for%20continuous%20action%20space.ipynb#X12sZmlsZQ%3D%3D?line=179'>180</a>\u001b[0m \u001b[39mif\u001b[39;00m os\u001b[39m.\u001b[39mpath\u001b[39m.\u001b[39mexists(model_path):\n\u001b[0;32m    <a href='vscode-notebook-cell:/d%3A/DISK%20S/IITM/Clubs/Analytics/RL/Tasks%20and%20mini-projects/Bi-pedal%20walker/Policy-gradients%20for%20continuous%20action%20space.ipynb#X12sZmlsZQ%3D%3D?line=180'>181</a>\u001b[0m     \u001b[39mself\u001b[39m\u001b[39m.\u001b[39msave_load_model(root_path \u001b[39m=\u001b[39m path , key\u001b[39m=\u001b[39m\u001b[39m'\u001b[39m\u001b[39mload\u001b[39m\u001b[39m'\u001b[39m , name\u001b[39m=\u001b[39mname)\n\u001b[1;32m--> <a href='vscode-notebook-cell:/d%3A/DISK%20S/IITM/Clubs/Analytics/RL/Tasks%20and%20mini-projects/Bi-pedal%20walker/Policy-gradients%20for%20continuous%20action%20space.ipynb#X12sZmlsZQ%3D%3D?line=182'>183</a>\u001b[0m reward_history \u001b[39m=\u001b[39m \u001b[39mself\u001b[39;49m\u001b[39m.\u001b[39;49mtrain_A2C_Car(path\u001b[39m=\u001b[39;49mpath,freq\u001b[39m=\u001b[39;49msave_freq,epochs\u001b[39m=\u001b[39;49mepochs)\n\u001b[0;32m    <a href='vscode-notebook-cell:/d%3A/DISK%20S/IITM/Clubs/Analytics/RL/Tasks%20and%20mini-projects/Bi-pedal%20walker/Policy-gradients%20for%20continuous%20action%20space.ipynb#X12sZmlsZQ%3D%3D?line=184'>185</a>\u001b[0m \u001b[39mif\u001b[39;00m plot:\n\u001b[0;32m    <a href='vscode-notebook-cell:/d%3A/DISK%20S/IITM/Clubs/Analytics/RL/Tasks%20and%20mini-projects/Bi-pedal%20walker/Policy-gradients%20for%20continuous%20action%20space.ipynb#X12sZmlsZQ%3D%3D?line=185'>186</a>\u001b[0m     fig \u001b[39m=\u001b[39m plt\u001b[39m.\u001b[39mfigure(\u001b[39m10\u001b[39m,\u001b[39m10\u001b[39m)\n",
      "\u001b[1;32md:\\DISK S\\IITM\\Clubs\\Analytics\\RL\\Tasks and mini-projects\\Bi-pedal walker\\Policy-gradients for continuous action space.ipynb Cell 11\u001b[0m in \u001b[0;36mCar_racing.train_A2C_Car\u001b[1;34m(self, path, epochs, freq)\u001b[0m\n\u001b[0;32m    <a href='vscode-notebook-cell:/d%3A/DISK%20S/IITM/Clubs/Analytics/RL/Tasks%20and%20mini-projects/Bi-pedal%20walker/Policy-gradients%20for%20continuous%20action%20space.ipynb#X12sZmlsZQ%3D%3D?line=119'>120</a>\u001b[0m rewards\u001b[39m.\u001b[39mappend(r)\n\u001b[0;32m    <a href='vscode-notebook-cell:/d%3A/DISK%20S/IITM/Clubs/Analytics/RL/Tasks%20and%20mini-projects/Bi-pedal%20walker/Policy-gradients%20for%20continuous%20action%20space.ipynb#X12sZmlsZQ%3D%3D?line=120'>121</a>\u001b[0m vals\u001b[39m.\u001b[39mappend(value)\n\u001b[1;32m--> <a href='vscode-notebook-cell:/d%3A/DISK%20S/IITM/Clubs/Analytics/RL/Tasks%20and%20mini-projects/Bi-pedal%20walker/Policy-gradients%20for%20continuous%20action%20space.ipynb#X12sZmlsZQ%3D%3D?line=121'>122</a>\u001b[0m log_probs\u001b[39m.\u001b[39mappend( \u001b[39mself\u001b[39;49m\u001b[39m.\u001b[39;49mget_log_probs(actions,Mean,Variance) )\n\u001b[0;32m    <a href='vscode-notebook-cell:/d%3A/DISK%20S/IITM/Clubs/Analytics/RL/Tasks%20and%20mini-projects/Bi-pedal%20walker/Policy-gradients%20for%20continuous%20action%20space.ipynb#X12sZmlsZQ%3D%3D?line=123'>124</a>\u001b[0m \u001b[39m''' raise Exception(f\" log probs :  {log_probs[0]} \") # - Passed '''\u001b[39;00m\n\u001b[0;32m    <a href='vscode-notebook-cell:/d%3A/DISK%20S/IITM/Clubs/Analytics/RL/Tasks%20and%20mini-projects/Bi-pedal%20walker/Policy-gradients%20for%20continuous%20action%20space.ipynb#X12sZmlsZQ%3D%3D?line=125'>126</a>\u001b[0m \u001b[39mif\u001b[39;00m done \u001b[39m==\u001b[39m \u001b[39mTrue\u001b[39;00m \u001b[39mor\u001b[39;00m i \u001b[39m==\u001b[39m n\u001b[39m-\u001b[39m\u001b[39m1\u001b[39m:\n",
      "\u001b[1;32md:\\DISK S\\IITM\\Clubs\\Analytics\\RL\\Tasks and mini-projects\\Bi-pedal walker\\Policy-gradients for continuous action space.ipynb Cell 11\u001b[0m in \u001b[0;36mCar_racing.get_log_probs\u001b[1;34m(self, actions, Mu, Variance)\u001b[0m\n\u001b[0;32m     <a href='vscode-notebook-cell:/d%3A/DISK%20S/IITM/Clubs/Analytics/RL/Tasks%20and%20mini-projects/Bi-pedal%20walker/Policy-gradients%20for%20continuous%20action%20space.ipynb#X12sZmlsZQ%3D%3D?line=75'>76</a>\u001b[0m \u001b[39mfor\u001b[39;00m i \u001b[39min\u001b[39;00m \u001b[39mrange\u001b[39m(\u001b[39m4\u001b[39m):\n\u001b[0;32m     <a href='vscode-notebook-cell:/d%3A/DISK%20S/IITM/Clubs/Analytics/RL/Tasks%20and%20mini-projects/Bi-pedal%20walker/Policy-gradients%20for%20continuous%20action%20space.ipynb#X12sZmlsZQ%3D%3D?line=77'>78</a>\u001b[0m     D \u001b[39m=\u001b[39m distributions\u001b[39m.\u001b[39mNormal(loc \u001b[39m=\u001b[39m Mu[i] , scale \u001b[39m=\u001b[39m Variance[i])\n\u001b[1;32m---> <a href='vscode-notebook-cell:/d%3A/DISK%20S/IITM/Clubs/Analytics/RL/Tasks%20and%20mini-projects/Bi-pedal%20walker/Policy-gradients%20for%20continuous%20action%20space.ipynb#X12sZmlsZQ%3D%3D?line=78'>79</a>\u001b[0m     temp \u001b[39m=\u001b[39m torch\u001b[39m.\u001b[39munsqueeze( D\u001b[39m.\u001b[39;49mlog_prob( actions[i] ) , \u001b[39m0\u001b[39m )\n\u001b[0;32m     <a href='vscode-notebook-cell:/d%3A/DISK%20S/IITM/Clubs/Analytics/RL/Tasks%20and%20mini-projects/Bi-pedal%20walker/Policy-gradients%20for%20continuous%20action%20space.ipynb#X12sZmlsZQ%3D%3D?line=79'>80</a>\u001b[0m     probs\u001b[39m.\u001b[39mappend(temp) \n\u001b[0;32m     <a href='vscode-notebook-cell:/d%3A/DISK%20S/IITM/Clubs/Analytics/RL/Tasks%20and%20mini-projects/Bi-pedal%20walker/Policy-gradients%20for%20continuous%20action%20space.ipynb#X12sZmlsZQ%3D%3D?line=81'>82</a>\u001b[0m     \u001b[39m# k = -( (actions[i] - Mu[i] )**2 / (2*(Variance[i]**2) ) ) - torch.log( Variance[i] )\u001b[39;00m\n\u001b[0;32m     <a href='vscode-notebook-cell:/d%3A/DISK%20S/IITM/Clubs/Analytics/RL/Tasks%20and%20mini-projects/Bi-pedal%20walker/Policy-gradients%20for%20continuous%20action%20space.ipynb#X12sZmlsZQ%3D%3D?line=82'>83</a>\u001b[0m     \u001b[39m# print(k == temp ,k , temp , k-temp )\u001b[39;00m\n\u001b[0;32m     <a href='vscode-notebook-cell:/d%3A/DISK%20S/IITM/Clubs/Analytics/RL/Tasks%20and%20mini-projects/Bi-pedal%20walker/Policy-gradients%20for%20continuous%20action%20space.ipynb#X12sZmlsZQ%3D%3D?line=83'>84</a>\u001b[0m \u001b[39m# print(Mu)\u001b[39;00m\n",
      "File \u001b[1;32m~\\AppData\\Roaming\\Python\\Python310\\site-packages\\torch\\distributions\\normal.py:77\u001b[0m, in \u001b[0;36mNormal.log_prob\u001b[1;34m(self, value)\u001b[0m\n\u001b[0;32m     75\u001b[0m \u001b[39mdef\u001b[39;00m \u001b[39mlog_prob\u001b[39m(\u001b[39mself\u001b[39m, value):\n\u001b[0;32m     76\u001b[0m     \u001b[39mif\u001b[39;00m \u001b[39mself\u001b[39m\u001b[39m.\u001b[39m_validate_args:\n\u001b[1;32m---> 77\u001b[0m         \u001b[39mself\u001b[39;49m\u001b[39m.\u001b[39;49m_validate_sample(value)\n\u001b[0;32m     78\u001b[0m     \u001b[39m# compute the variance\u001b[39;00m\n\u001b[0;32m     79\u001b[0m     var \u001b[39m=\u001b[39m (\u001b[39mself\u001b[39m\u001b[39m.\u001b[39mscale \u001b[39m*\u001b[39m\u001b[39m*\u001b[39m \u001b[39m2\u001b[39m)\n",
      "File \u001b[1;32m~\\AppData\\Roaming\\Python\\Python310\\site-packages\\torch\\distributions\\distribution.py:292\u001b[0m, in \u001b[0;36mDistribution._validate_sample\u001b[1;34m(self, value)\u001b[0m\n\u001b[0;32m    290\u001b[0m \u001b[39massert\u001b[39;00m support \u001b[39mis\u001b[39;00m \u001b[39mnot\u001b[39;00m \u001b[39mNone\u001b[39;00m\n\u001b[0;32m    291\u001b[0m valid \u001b[39m=\u001b[39m support\u001b[39m.\u001b[39mcheck(value)\n\u001b[1;32m--> 292\u001b[0m \u001b[39mif\u001b[39;00m \u001b[39mnot\u001b[39;00m valid\u001b[39m.\u001b[39mall():\n\u001b[0;32m    293\u001b[0m     \u001b[39mraise\u001b[39;00m \u001b[39mValueError\u001b[39;00m(\n\u001b[0;32m    294\u001b[0m         \u001b[39m\"\u001b[39m\u001b[39mExpected value argument \u001b[39m\u001b[39m\"\u001b[39m\n\u001b[0;32m    295\u001b[0m         \u001b[39mf\u001b[39m\u001b[39m\"\u001b[39m\u001b[39m(\u001b[39m\u001b[39m{\u001b[39;00m\u001b[39mtype\u001b[39m(value)\u001b[39m.\u001b[39m\u001b[39m__name__\u001b[39m\u001b[39m}\u001b[39;00m\u001b[39m of shape \u001b[39m\u001b[39m{\u001b[39;00m\u001b[39mtuple\u001b[39m(value\u001b[39m.\u001b[39mshape)\u001b[39m}\u001b[39;00m\u001b[39m) \u001b[39m\u001b[39m\"\u001b[39m\n\u001b[1;32m   (...)\u001b[0m\n\u001b[0;32m    298\u001b[0m         \u001b[39mf\u001b[39m\u001b[39m\"\u001b[39m\u001b[39mbut found invalid values:\u001b[39m\u001b[39m\\n\u001b[39;00m\u001b[39m{\u001b[39;00mvalue\u001b[39m}\u001b[39;00m\u001b[39m\"\u001b[39m\n\u001b[0;32m    299\u001b[0m     )\n",
      "\u001b[1;31mKeyboardInterrupt\u001b[0m: "
     ]
    }
   ],
   "source": [
    "# training our model here\n",
    "reward_avg = model1.train_model(epochs=100,save_freq=2)"
   ]
  },
  {
   "cell_type": "code",
   "execution_count": null,
   "id": "386aae3e",
   "metadata": {},
   "outputs": [
    {
     "data": {
      "image/png": "[encoded data removed]",
      "text/plain": [
       "<Figure size 432x288 with 1 Axes>"
      ]
     },
     "metadata": {
      "needs_background": "light"
     },
     "output_type": "display_data"
    },
    {
     "name": "stdout",
     "output_type": "stream",
     "text": [
      "-0.018527687560569134  ; avg :  -0.6583110148781032\n"
     ]
    }
   ],
   "source": [
    "plt.plot(reward_avg,label='avg reward for 1000 episodes')\n",
    "plt.show()\n",
    "print( max(reward_avg) , ' ; avg : ' , sum(reward_avg)/len(reward_avg) )"
   ]
  },
  {
   "cell_type": "code",
   "execution_count": null,
   "id": "215bdc29",
   "metadata": {},
   "outputs": [],
   "source": [
    "env.reset()\n",
    "a = np.array([1.1,0.19,0.79])\n",
    "for i in range(120):\n",
    "    l = env.step(a)\n",
    "plt.imshow(l[0])"
   ]
  },
  {
   "cell_type": "code",
   "execution_count": 57,
   "id": "b39d8861",
   "metadata": {},
   "outputs": [
    {
     "name": "stdout",
     "output_type": "stream",
     "text": [
      "Sun Sep 18 18:38:46 2022       \n",
      "+-----------------------------------------------------------------------------+\n",
      "| NVIDIA-SMI 516.59       Driver Version: 516.59       CUDA Version: 11.7     |\n",
      "|-------------------------------+----------------------+----------------------+\n",
      "| GPU  Name            TCC/WDDM | Bus-Id        Disp.A | Volatile Uncorr. ECC |\n",
      "| Fan  Temp  Perf  Pwr:Usage/Cap|         Memory-Usage | GPU-Util  Compute M. |\n",
      "|                               |                      |               MIG M. |\n",
      "|===============================+======================+======================|\n",
      "|   0  NVIDIA GeForce ... WDDM  | 00000000:01:00.0 Off |                  N/A |\n",
      "| N/A   54C    P8     7W /  N/A |    810MiB /  4096MiB |      0%      Default |\n",
      "|                               |                      |                  N/A |\n",
      "+-------------------------------+----------------------+----------------------+\n",
      "                                                                               \n",
      "+-----------------------------------------------------------------------------+\n",
      "| Processes:                                                                  |\n",
      "|  GPU   GI   CI        PID   Type   Process name                  GPU Memory |\n",
      "|        ID   ID                                                   Usage      |\n",
      "|=============================================================================|\n",
      "|    0   N/A  N/A     14276      C   C:\\Python310\\python.exe         N/A      |\n",
      "+-----------------------------------------------------------------------------+\n"
     ]
    }
   ],
   "source": [
    "with torch.no_grad():\n",
    "    torch.cuda.empty_cache()\n",
    "    !nvidia-smi"
   ]
  },
  {
   "cell_type": "code",
   "execution_count": null,
   "id": "16f51a28",
   "metadata": {},
   "outputs": [],
   "source": [
    "# solving some Random  doubts\n",
    "a11 = torch.Tensor([[1,1,1],[1,1,1]])\n",
    "b11 = torch.Tensor([2,2.5])\n",
    "b11 = b11.unsqueeze(1)\n",
    "c11 = a11 * b11\n",
    "print(c11,b11.size(),a11.size(),c11.requires_grad)"
   ]
  },
  {
   "cell_type": "code",
   "execution_count": null,
   "id": "9a8db56e",
   "metadata": {},
   "outputs": [],
   "source": [
    "stats.truncnorm.rvs(-9.8,-0.9,loc=10,size=10,scale=10)"
   ]
  },
  {
   "cell_type": "code",
   "execution_count": null,
   "id": "ed35d6a5",
   "metadata": {},
   "outputs": [],
   "source": [
    "env.reset()\n",
    "n , r ,done , l , _ = env.step([0.1,0.1,0.2])\n",
    "print(r,done,l,_ )"
   ]
  },
  {
   "cell_type": "code",
   "execution_count": null,
   "id": "34eb4da0",
   "metadata": {},
   "outputs": [],
   "source": [
    "t = [torch.Tensor( [[torch.Tensor([1]),torch.Tensor([1])]] ),torch.Tensor( [[torch.Tensor([1]),torch.Tensor([1])]] ) ]\n",
    "t1 = torch.cat([t[0]])\n",
    "print(t1)"
   ]
  },
  {
   "cell_type": "code",
   "execution_count": null,
   "id": "9ae514be",
   "metadata": {},
   "outputs": [],
   "source": [
    "dist1 = distributions.Normal(loc = torch.Tensor([1]) , scale = torch.Tensor([1]))\n",
    "k11 = dist1.log_prob(torch.tensor([1000]))\n",
    "print(k11.requires_grad)"
   ]
  },
  {
   "cell_type": "code",
   "execution_count": 40,
   "id": "491e3af2",
   "metadata": {},
   "outputs": [],
   "source": [
    "def get_random_variates(Mu,Variance): # pass 2 np_array of size '3'\n",
    "\n",
    "        # to get truncated normal dist in the range(-1,1) \n",
    "        # please visit the link https://docs.scipy.org/doc/scipy/reference/generated/scipy.stats.truncnorm.html to get understanding of the formulae used \n",
    "    \n",
    "        #np_array[1] , np_array[3] , np_array[5] , np_array[4] , np_array[2] = 1/(1+np.exp(-np_array[1])) + 1e-5 , 1/(1+np.exp(-np_array[3])) + 1e-5 , 1/(1+np.exp(-np_array[5])) + 1e-5 , 1/(1+np.exp(-np_array[4])) + 1e-5 , 1/(1+np.exp(-np_array[2])) + 1e-5\n",
    "\n",
    "        action1_range1 , action1_range2 = (-1 - Mu[0] ) / Variance[0] ,  ( 1 - Mu[0] ) / Variance[0] \n",
    "        action2_range1 , action2_range2 = (-1 - Mu[1] ) / Variance[1] ,  ( 1 - Mu[1] ) / Variance[1]\n",
    "        action3_range1 , action3_range2 = (-1 - Mu[2] ) / Variance[2] ,  ( 1 - Mu[2] ) / Variance[2]\n",
    "        action4_range1 , action4_range2 = (-1 - Mu[3] ) / Variance[3] ,  ( 1 - Mu[3] ) / Variance[3]\n",
    "        \n",
    "        # print(np_array,action1_range1 , action1_range2)\n",
    "\n",
    "        action1 = stats.truncnorm.rvs(action1_range1 , action1_range2 , loc = Mu[0] , scale = Variance[0])\n",
    "        action2 = stats.truncnorm.rvs(action2_range1 , action2_range2 , loc = Mu[1] , scale = Variance[1])\n",
    "        action3 = stats.truncnorm.rvs(action3_range1 , action3_range2 , loc = Mu[2] , scale = Variance[2])\n",
    "        action4 = stats.truncnorm.rvs(action4_range1 , action4_range2 , loc = Mu[3] , scale = Variance[3])\n",
    "\n",
    "        actions = np.array([action1 , action2 , action3 , action4 ])\n",
    "\n",
    "        ''' raise Exception(f\" test -1 \\n test for actions probs  \\n The action taken now is {actions} \\n The shape is {actions.shape} \\n actions_params : {np_array}\") # - Passed '''\n",
    "        return actions"
   ]
  },
  {
   "cell_type": "code",
   "execution_count": 41,
   "id": "33a406b3",
   "metadata": {},
   "outputs": [],
   "source": [
    "video_converter =  cv.VideoWriter_fourcc(*'mp4v')\n",
    "video_bipedal_walker = cv.VideoWriter('./videos/A2C_car_racing-2-arch-3-video-2.avi',video_converter,30,(400,600))"
   ]
  },
  {
   "cell_type": "code",
   "execution_count": 42,
   "id": "b77a3dfd",
   "metadata": {},
   "outputs": [],
   "source": [
    "def Enhance(agent,name,device):\n",
    "  torch.no_grad()\n",
    "  path = os.path.join('./weights/',f'{name}.pt')\n",
    "  agent.load_state_dict(torch.load(path,map_location=device))\n",
    "  print(f'The model named : {name} successfully loaded')"
   ]
  },
  {
   "cell_type": "code",
   "execution_count": 98,
   "id": "18e7a0dc",
   "metadata": {},
   "outputs": [],
   "source": [
    "def check_training(name,num=1):\n",
    "\n",
    "  video_converter =  cv.VideoWriter_fourcc(*'mp4v')\n",
    "  video1 = cv.VideoWriter(f'./video/{name}-video-{num}.avi',video_converter,60,(600,400))\n",
    "\n",
    "  env = gym.make('BipedalWalker-v3',new_step_api='True',render_mode='rgb_array',hardcore=False)\n",
    "  torch.no_grad()\n",
    "  device = torch.device(\"cuda\" if torch.cuda.is_available() else \"cpu\")\n",
    "  print(device)\n",
    "\n",
    "  agent = BipedalWalker().to(device)\n",
    "  done=False\n",
    "  state = env.reset()\n",
    "  i = 0\n",
    "  j = 0\n",
    "  m1 = []\n",
    "  rew = []\n",
    "  Enhance(agent,name,device)\n",
    "\n",
    "  with torch.no_grad() :\n",
    "\n",
    "    while done!=True :\n",
    "      \n",
    "      state = torch.Tensor(state).to(device)\n",
    "      v , Mean , Variance = agent(state)\n",
    "      #print(Mean,Variance)\n",
    "      \n",
    "\n",
    "      Mu_numpy = Mean.detach().cpu().numpy()\n",
    "      Var_numpy = Variance.detach().cpu().numpy()\n",
    "      \n",
    "      actions = get_random_variates(Mu_numpy,Var_numpy)\n",
    "      \n",
    "      d = env.step(actions)\n",
    "      j+=1\n",
    "\n",
    "      reward = Mean\n",
    "      m1.append(torch.unsqueeze(Mean[2],0))\n",
    "      next_state = d[0]\n",
    "      done = d[2]\n",
    "      \n",
    "      #print(d)\n",
    "      #raise Exception(' Test -1 to check the values ')\n",
    "      #frame = cv.cvtColor(filter_image(d[0]))\n",
    "\n",
    "      video1.write(np.array( env.render()[-1]) )\n",
    "      state = next_state\n",
    "      i+=1\n",
    "      rew.append(reward)\n",
    "\n",
    "      if done or i>500 :\n",
    "          torch.Tensor.ndim = property(lambda self: len(self.shape))\n",
    "          #print(i ,f'done status : {done} /n {rew} ')\n",
    "          m1 = torch.cat(m1)\n",
    "          m1 = m1.detach().cpu().numpy()\n",
    "          plt.hist(m1,bins=20)\n",
    "          #prev_screen = env.render(mode='rgb_array')\n",
    "          #plt.imshow(prev_screen)\n",
    "          video1.release()\n",
    "          break"
   ]
  },
  {
   "cell_type": "code",
   "execution_count": 107,
   "id": "63ecb932",
   "metadata": {},
   "outputs": [
    {
     "name": "stdout",
     "output_type": "stream",
     "text": [
      "cuda\n",
      "The model named : Bi_pedal_walker_v3_A3 successfully loaded\n"
     ]
    },
    {
     "data": {
      "image/png": "[encoded data removed]",
      "text/plain": [
       "<Figure size 432x288 with 1 Axes>"
      ]
     },
     "metadata": {
      "needs_background": "light"
     },
     "output_type": "display_data"
    }
   ],
   "source": [
    "for _ in range(1):\n",
    "    check_training('Bi_pedal_walker_v3_A3')"
   ]
  },
  {
   "cell_type": "code",
   "execution_count": null,
   "id": "97d6e280",
   "metadata": {},
   "outputs": [],
   "source": [
    "#video1.release()"
   ]
  }
 ],
 "metadata": {
  "kernelspec": {
   "display_name": "Python 3.10.4 64-bit",
   "language": "python",
   "name": "python3"
  },
  "language_info": {
   "codemirror_mode": {
    "name": "ipython",
    "version": 3
   },
   "file_extension": ".py",
   "mimetype": "text/x-python",
   "name": "python",
   "nbconvert_exporter": "python",
   "pygments_lexer": "ipython3",
   "version": "3.10.4"
  },
  "vscode": {
   "interpreter": {
    "hash": "25a19fbe0a9132dfb9279d48d161753c6352f8f9478c2e74383d340069b907c3"
   }
  }
 },
 "nbformat": 4,
 "nbformat_minor": 5
}
